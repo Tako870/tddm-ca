{
 "cells": [
  {
   "cell_type": "code",
   "execution_count": 1,
   "id": "da92d0ee-0de8-4e82-b0ef-847fe6570f42",
   "metadata": {},
   "outputs": [
    {
     "name": "stdout",
     "output_type": "stream",
     "text": [
      "Hello world\n"
     ]
    }
   ],
   "source": [
    "print(\"Hello world\")"
   ]
  },
  {
   "cell_type": "code",
   "execution_count": 4,
   "id": "05d7a20a-4827-475a-b782-afe19be9e147",
   "metadata": {},
   "outputs": [],
   "source": [
    "import numpy as np\n",
    "import matplotlib.pyplot as mlt\n",
    "import pandas as pd \n",
    "\n",
    "# imported libraries"
   ]
  },
  {
   "cell_type": "code",
   "execution_count": null,
   "id": "fee3058e",
   "metadata": {},
   "outputs": [
    {
     "name": "stdout",
     "output_type": "stream",
     "text": [
      "region\n",
      "Asia      48\n",
      "Europe    39\n",
      "Name: count, dtype: int64\n"
     ]
    }
   ],
   "source": [
    "# #clean per-capita-meat-type.csv\n",
    "# import pandas as pd\n",
    "\n",
    "# meat_df = pd.read_csv(\"datasets/per-capita-meat-type.csv\")\n",
    "# codes_df = pd.read_csv(\"datasets/codes.csv\")\n",
    "\n",
    "# merged = pd.merge(meat_df, codes_df, left_on=\"Code\", right_on=\"alpha-3\", how=\"left\")\n",
    "\n",
    "# filtered = merged[merged[\"region\"].isin([\"Asia\", \"Europe\"])]\n",
    "\n",
    "# latest = filtered.sort_values(\"Year\").groupby(\"Code\").tail(1)\n",
    "\n",
    "# meat_columns = [col for col in latest.columns if col.startswith(\"Meat\")]\n",
    "# latest[\"Total_Meat_kg_per_capita\"] = latest[meat_columns].sum(axis=1)\n",
    "\n",
    "# final_df = latest[[\"Entity\", \"Code\", \"Year\", \"region\", \"Total_Meat_kg_per_capita\"] + meat_columns]\n",
    "\n",
    "# final_df.to_csv(\"asia_europe_meat_consumption.csv\", index=False)\n",
    "\n",
    "# print(final_df[\"region\"].value_counts())\n"
   ]
  },
  {
   "cell_type": "code",
   "execution_count": 6,
   "id": "25e42d71",
   "metadata": {},
   "outputs": [
    {
     "name": "stdout",
     "output_type": "stream",
     "text": [
      "             name alpha-2 alpha-3  country-code     iso_3166-2   region  \\\n",
      "0     Afghanistan      AF     AFG             4  ISO 3166-2:AF     Asia   \n",
      "1   Åland Islands      AX     ALA           248  ISO 3166-2:AX   Europe   \n",
      "2         Albania      AL     ALB             8  ISO 3166-2:AL   Europe   \n",
      "3         Algeria      DZ     DZA            12  ISO 3166-2:DZ   Africa   \n",
      "4  American Samoa      AS     ASM            16  ISO 3166-2:AS  Oceania   \n",
      "\n",
      "        sub-region intermediate-region  region-code  sub-region-code  \\\n",
      "0    Southern Asia                 NaN        142.0             34.0   \n",
      "1  Northern Europe                 NaN        150.0            154.0   \n",
      "2  Southern Europe                 NaN        150.0             39.0   \n",
      "3  Northern Africa                 NaN          2.0             15.0   \n",
      "4        Polynesia                 NaN          9.0             61.0   \n",
      "\n",
      "   intermediate-region-code  \n",
      "0                       NaN  \n",
      "1                       NaN  \n",
      "2                       NaN  \n",
      "3                       NaN  \n",
      "4                       NaN  \n",
      "  LOCATION SUBJECT MEASURE  TIME      Value\n",
      "0      AUS    BEEF  KG_CAP  1991  27.721815\n",
      "1      AUS    BEEF  KG_CAP  1992  26.199591\n",
      "2      AUS    BEEF  KG_CAP  1993  26.169094\n",
      "3      AUS    BEEF  KG_CAP  1994  25.456134\n",
      "4      AUS    BEEF  KG_CAP  1995  25.340226\n",
      "                 name                                              blurb  \\\n",
      "0           'L Chimpl  Haute cuisine has arrived at the “simple” Gran...   \n",
      "1  't Amsterdammertje         If you’re a fan of hip, vibrant and trendy   \n",
      "2          't Fornuis    ’t Fornuis is a restaurant that has become rare   \n",
      "3        't Korennaer  Edwin Van Goethem jazzes up his cooking with i...   \n",
      "4          't Lansink  Warmth and character are the hallmarks of ’t L...   \n",
      "\n",
      "  michelin_award                 city      country        lat        lon  \\\n",
      "0       ONE_STAR               Tamion        Italy  46.407342  11.656432   \n",
      "1       ONE_STAR  Loenen aan de Vecht  Netherlands  52.209859   5.021655   \n",
      "2       ONE_STAR            Antwerpen      Belgium  51.219039   4.399448   \n",
      "3       ONE_STAR     Nieuwkerken-Waas      Belgium  51.192947   4.178107   \n",
      "4       ONE_STAR              Hengelo  Netherlands  52.259676   6.782364   \n",
      "\n",
      "                                               image               chef  \\\n",
      "0  https://axwwgrkdco.cloudimg.io/v7/mitp-p-001-d...     Stefano Ghetta   \n",
      "1  https://axwwgrkdco.cloudimg.io/v7/mitp-p-001-d...      André Gerrits   \n",
      "2  https://axwwgrkdco.cloudimg.io/v7/mitp-p-001-d...       Johan Segers   \n",
      "3  https://axwwgrkdco.cloudimg.io/v7/mitp-p-001-d...  Edwin Van Goethem   \n",
      "4  https://axwwgrkdco.cloudimg.io/v7/mtp-cf-image...     Lars van Galen   \n",
      "\n",
      "          cuisine1       cuisine2  \\\n",
      "0         Creative   Contemporary   \n",
      "1         Creative            NaN   \n",
      "2  Classic Cuisine            NaN   \n",
      "3   Modern Cuisine            NaN   \n",
      "4   Modern Cuisine  Modern French   \n",
      "\n",
      "                                                 url  \\\n",
      "0  https://guide.michelin.com/en/trentino-alto-ad...   \n",
      "1  https://guide.michelin.com/en/utrecht/loenen-a...   \n",
      "2  https://guide.michelin.com/en/antwerpen/be-ant...   \n",
      "3  https://guide.michelin.com/en/oost-vlaanderen/...   \n",
      "4  https://guide.michelin.com/en/overijssel/henge...   \n",
      "\n",
      "                                                url2  \n",
      "0  https://guide.michelin.com/en/trentino-alto-ad...  \n",
      "1  https://guide.michelin.com/en/utrecht/loenen-a...  \n",
      "2  https://guide.michelin.com/en/antwerpen/be-ant...  \n",
      "3  https://guide.michelin.com/en/oost-vlaanderen/...  \n",
      "4  https://guide.michelin.com/en/overijssel/henge...  \n"
     ]
    },
    {
     "name": "stderr",
     "output_type": "stream",
     "text": [
      "<>:1: SyntaxWarning: invalid escape sequence '\\c'\n",
      "<>:2: SyntaxWarning: invalid escape sequence '\\m'\n",
      "<>:3: SyntaxWarning: invalid escape sequence '\\m'\n",
      "<>:1: SyntaxWarning: invalid escape sequence '\\c'\n",
      "<>:2: SyntaxWarning: invalid escape sequence '\\m'\n",
      "<>:3: SyntaxWarning: invalid escape sequence '\\m'\n",
      "C:\\Users\\takoo\\AppData\\Local\\Temp\\ipykernel_23604\\2821011415.py:1: SyntaxWarning: invalid escape sequence '\\c'\n",
      "  codes = pd.read_csv(\"datasets\\codes.csv\")\n",
      "C:\\Users\\takoo\\AppData\\Local\\Temp\\ipykernel_23604\\2821011415.py:2: SyntaxWarning: invalid escape sequence '\\m'\n",
      "  meat_consumption = pd.read_csv(\"datasets\\meat_consumption_worldwide.csv\")\n",
      "C:\\Users\\takoo\\AppData\\Local\\Temp\\ipykernel_23604\\2821011415.py:3: SyntaxWarning: invalid escape sequence '\\m'\n",
      "  michelin = pd.read_csv(\"datasets\\michelin.csv\")\n"
     ]
    }
   ],
   "source": [
    "codes = pd.read_csv(\"datasets\\codes.csv\")\n",
    "meat_consumption = pd.read_csv(\"datasets\\meat_consumption_worldwide.csv\")\n",
    "michelin = pd.read_csv(\"datasets\\michelin.csv\")\n",
    "\n",
    "print(codes.head())\n",
    "print(meat_consumption.head())\n",
    "print(michelin.head())"
   ]
  },
  {
   "cell_type": "code",
   "execution_count": null,
   "id": "43eae3ee",
   "metadata": {},
   "outputs": [],
   "source": [
    "# CLEANUP - Michelin, to only include European and Asian restaurants.\n",
    "# Take the country dataset\n",
    "# Fix it for South Korea\n",
    "# Only take countries found in the list of countries in codes (this will be only europe and asia)\n",
    "\n",
    "# Mapping mismatches from michelin country names to ISO-style names in codes\n",
    "country_replacements = {\n",
    "    \"Schweiz\": \"Switzerland\",\n",
    "    \"Suisse\": \"Switzerland\",\n",
    "    \"Svizzera\": \"Switzerland\",\n",
    "    \"South Korea\": \"Korea, Republic of\",\n",
    "    \"Deutschland\": \"Germany\",\n",
    "    \"Taipei & Taichung\": \"Taiwan, Province of China\",\n",
    "    \"United States\": \"United States of America\",\n",
    "    \"United Kingdom\": \"United Kingdom of Great Britain and Northern Ireland\",\n",
    "    \"Macau\": \"Macao\",\n",
    "    \"China Mainland\": \"China\",\n",
    "    \"Nederland\": \"Netherlands, Kingdom of the\",\n",
    "    \"Россия\": \"Russian Federation\"\n",
    "}\n",
    "\n",
    "# Apply replacements\n",
    "michelin['country'] = michelin['country'].replace(country_replacements)\n",
    "\n",
    "# Filter to only countries that exist in codes['name']\n",
    "filtered_michelin = michelin[michelin['country'].isin(codes['name'])]\n",
    "\n",
    "european_countries = codes[codes['region'] == 'Europe']['name']\n",
    "asian_countries = codes[codes['region'] == 'Asia']['name']\n",
    "# Filter by European or Asian\n",
    "# Select all rows in filtered michelin where the country column's value is associated with the Europe region in the coes.csv\n",
    "european_michelin = michelin[michelin['country'].isin(european_countries)]\n",
    "asian_michelin = michelin[michelin['country'].isin(asian_countries)]"
   ]
  },
  {
   "cell_type": "code",
   "execution_count": null,
   "id": "b646c91a",
   "metadata": {},
   "outputs": [],
   "source": [
    "# What we are going to do is use bootstrap sampling on the correlation between meat consumption and michlein star count.\n",
    "# The rationale here is as such:\n",
    "# Each COUNTRY has two VALUES. These VALUES are MEAT CONSUMPTION and MICHELIN COUNT (this can be either count of restaurants or count of stars.)\n",
    "# We divide the two groups of countries into ASIAN and EUROPEAN."
   ]
  },
  {
   "cell_type": "code",
   "execution_count": null,
   "id": "b0715df4",
   "metadata": {},
   "outputs": [],
   "source": []
  }
 ],
 "metadata": {
  "kernelspec": {
   "display_name": "Python 3",
   "language": "python",
   "name": "python3"
  },
  "language_info": {
   "codemirror_mode": {
    "name": "ipython",
    "version": 3
   },
   "file_extension": ".py",
   "mimetype": "text/x-python",
   "name": "python",
   "nbconvert_exporter": "python",
   "pygments_lexer": "ipython3",
   "version": "3.12.10"
  }
 },
 "nbformat": 4,
 "nbformat_minor": 5
}
